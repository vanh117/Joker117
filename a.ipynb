{
 "cells": [
  {
   "cell_type": "code",
   "execution_count": null,
   "metadata": {},
   "outputs": [],
   "source": [
    "!gdown https://drive.google.com/drive/folders/1xxHBv0k_Td9AOrifcfoK-qaUGKTz-F6V\n",
    "!unzip training.zip"
   ]
  },
  {
   "cell_type": "code",
   "execution_count": null,
   "metadata": {},
   "outputs": [],
   "source": [
    "# chia kfold\n",
    "\n",
    "import pandas as pd\n",
    "\n",
    "# Load the data from the uploaded file\n",
    "data_path = 'training/labels.txt'\n",
    "data = pd.read_csv(data_path, sep=\" \", header=None, names=[\"image\", \"label\"])\n",
    "# Check the frequency of each label to assess if StratifiedKFold can be used\n",
    "label_counts = data['label'].value_counts()\n",
    "# Show the frequency of labels\n",
    "label_counts.describe(), label_counts.min(), label_counts.max()"
   ]
  },
  {
   "cell_type": "code",
   "execution_count": null,
   "metadata": {},
   "outputs": [],
   "source": [
    "from sklearn.model_selection import StratifiedKFold\n",
    "\n",
    "# Prepare the StratifiedKFold with 5 splits\n",
    "skf = StratifiedKFold(n_splits=10, shuffle=True, random_state=100)\n",
    "folds = []\n",
    "\n",
    "# Generate the indices for the 5 folds\n",
    "for train_index, test_index in skf.split(data['image'], data['label']):\n",
    "    folds.append({\n",
    "        \"train\": data.iloc[train_index],\n",
    "        \"test\": data.iloc[test_index]\n",
    "    })\n",
    "\n",
    "# Output the sizes of the first fold as an example\n",
    "len(folds), folds[0]['train'].shape, folds[0]['test'].shape"
   ]
  },
  {
   "cell_type": "code",
   "execution_count": null,
   "metadata": {},
   "outputs": [],
   "source": [
    "for i in range(5,15):\n",
    "    folds[i-5]['train'].to_csv(f'training/fold{i}_train.txt', sep=\" \", header=False, index=False)\n",
    "    folds[i-5]['test'].to_csv(f'training/fold{i}_test.txt', sep=\" \", header=False, index=False)"
   ]
  },
  {
   "cell_type": "code",
   "execution_count": null,
   "metadata": {},
   "outputs": [],
   "source": [
    "# train \n",
    "!cd resnet4pillImg\n",
    "!python train6.py"
   ]
  }
 ],
 "metadata": {
  "language_info": {
   "name": "python"
  }
 },
 "nbformat": 4,
 "nbformat_minor": 2
}
